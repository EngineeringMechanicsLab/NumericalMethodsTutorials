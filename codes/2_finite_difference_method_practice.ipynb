{
 "cells": [
  {
   "cell_type": "markdown",
   "metadata": {},
   "source": [
    "# Finite Difference Method Demonstration\n",
    "\n",
    "The finite difference method is one way to discretize derivatives and solve differential equations. \n",
    "\n",
    "We will use the finite difference method to find a numerical solution for the displacement along a cantilever beam for the one dimensional Euler-Bernoulli beam equation. As a first step, we will use the finite difference method to discretize our system, which will enable us to turn an ordinary differential equation into a system of algebraic equations.\n",
    "\n",
    "Consider a cantilever beam in the picture below:\n",
    "\n",
    "<img src=\"images/cantilever-2d.png\">"
   ]
  },
  {
   "cell_type": "markdown",
   "metadata": {},
   "source": [
    "where the cantilever has a length $L$, height $h$, and width (into the page) $b$, and has a rectangular cross section. The displacement $A$ of the beam is $A(x, t)$ is a function of the axial coordinate $x$ and time $t$.\n",
    "\n",
    "## Equation of Motion\n",
    "\n",
    "For small displacements, the cantilever is well described by the Euler-Bernoulli beam equation, which is\n",
    "\n",
    "$$EI\\frac{\\partial^4 W(x, t)}{\\partial x^4} + \\mu \\frac{\\partial^2 W(x, t)}{\\partial t^2} = F(x, t)$$\n",
    "\n",
    "where $W(x, t)$ is the displacement of the beam at point $x$ and time $t$, and the beam has a constant Young's modulus $E$ and area moment of inertia $I$ and mass per unit length $\\mu$. Lastly, the beam is subjected to a force per unit length of $F(x, t)$.\n",
    "\n",
    "For now, we will solve for the **steady state** displacement of the beam due to a point force $F$ acting on the tip of the beam. This allows us to set the time dependent portions of our equation of motion (EOM) to zero. This reduces the EOM to\n",
    "\n",
    "$$EI\\frac{d^4 W(x, t)}{d x^4} = F(x, t)$$\n",
    "\n",
    "which is now only an ordinary differential equation rather than a partial differential equation.\n",
    "\n"
   ]
  },
  {
   "cell_type": "markdown",
   "metadata": {},
   "source": [
    "#### Nondimensionalize the equation\n",
    "Let's first start off by nondimensionalizing the equation of motion. For x, we know that it goes from x=0 to x=L. This results in\n",
    "$$\n",
    "\\frac{EI W_0}{L^4} \\frac{d^4 W}{dx^4} = F(x, t)\n",
    "$$\n",
    "where we have nondimensionalized the axial length $x\\in[0, L]$ to $x\\in[0, 1]$, and the displacement $W$ by $W_0$, which we choose so that $W(x, t)\\sim 1$.\n",
    "$$\n",
    "\\frac{d^4 W}{dx^4} = \\tilde{F}(x, t) = \\frac{L^4}{EI W_0} F(x, t)\n",
    "$$"
   ]
  },
  {
   "cell_type": "markdown",
   "metadata": {},
   "source": [
    "### Discretizing the Equation of Motion\n",
    "Using the finite difference method, write out a discrete form of the steady state ordinary differential equation from above. For now, a first order method is sufficient.\n",
    "\n",
    "You should write out this system of equations on your own. You should consult available resources to learn the finite difference method."
   ]
  },
  {
   "cell_type": "markdown",
   "metadata": {},
   "source": []
  },
  {
   "cell_type": "code",
   "execution_count": 1,
   "metadata": {},
   "outputs": [],
   "source": [
    "## Bonus: use the sympy package to find the discrete form of the steady state cantilever beam equation from above using symbols.\n",
    "import sympy as sp"
   ]
  },
  {
   "cell_type": "markdown",
   "metadata": {},
   "source": [
    "### Boundary Conditions\n",
    "\n",
    "With the EOM defined for the continuum of the beam, we need to define the boundary conditions. Given that a cantilever is fixed at the left ($x=0$) and is free at the right ($x=L$), what are the set of boundary conditions for the cantilever?\n",
    "\n",
    "Hint: The total number of boundary conditions is equal to the order of the differential equation. In this case, this means there will be 4 boundary conditions."
   ]
  },
  {
   "cell_type": "markdown",
   "metadata": {},
   "source": [
    "### Discretizing the Boundary Conditions\n",
    "Once the boundary conditions have been determined, use the finite difference method in order to determine the discretized set of equations for the boundary conditions.\n"
   ]
  },
  {
   "cell_type": "code",
   "execution_count": 10,
   "metadata": {},
   "outputs": [],
   "source": [
    "## Bonus: use the sympy package to find the discrete form of the boundary conditions using symbols."
   ]
  },
  {
   "cell_type": "markdown",
   "metadata": {},
   "source": [
    "## Next Steps\n",
    "Next, we will need to take these algebraic equations and turn them into a system of equations.\n",
    "\n",
    "How can we use linear algebra to describe the system of equations we have set up above? In particular, how could we formulate the system of equations into the form of $A x = b$, where $x$ and $b$ are vectors, and $A$ is a matrix? Note that we'll solve $A x = b$ for $x$."
   ]
  },
  {
   "cell_type": "code",
   "execution_count": null,
   "metadata": {},
   "outputs": [],
   "source": []
  },
  {
   "cell_type": "code",
   "execution_count": null,
   "metadata": {},
   "outputs": [],
   "source": []
  }
 ],
 "metadata": {
  "kernelspec": {
   "display_name": ".venv",
   "language": "python",
   "name": "python3"
  },
  "language_info": {
   "codemirror_mode": {
    "name": "ipython",
    "version": 3
   },
   "file_extension": ".py",
   "mimetype": "text/x-python",
   "name": "python",
   "nbconvert_exporter": "python",
   "pygments_lexer": "ipython3",
   "version": "3.12.7"
  }
 },
 "nbformat": 4,
 "nbformat_minor": 2
}
