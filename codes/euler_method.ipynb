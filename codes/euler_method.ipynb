{
 "cells": [
  {
   "cell_type": "markdown",
   "metadata": {},
   "source": [
    "# Euler Method Demonstration\n",
    "Here's a simple example of using Euler's method to solve for numerically solving for the time dependent response of a damped harmonic oscillator.\n",
    "\n",
    "We will assume that the damped harmonic oscillator is not driven and has an equation of motion of:\n",
    "\n",
    "$$\n",
    "m\\ddot{x} + \\gamma \\dot{x} + k x = 0\n",
    "$$\n",
    "\n",
    "where $m=1$ kg, $\\gamma=0.1$ kg/s, and $k=10$ N/m. We assume the system has some known initial conditions $x(0) = x_0, \\dot{x}(0) = \\dot{x}_0$."
   ]
  },
  {
   "cell_type": "markdown",
   "metadata": {},
   "source": [
    "### Nondimensionalization\n",
    "A Good first step is to nondimensionalize the problem. This is typically advantageous for numerical simulations, as this can enable better floating point arithmetic. We nondimensionalize the distance $x = L\\tilde{x}$ and time $t = T\\tilde{t}$. Using these length and time scales, we find:\n",
    "\n",
    "$$\n",
    "\\frac{m L}{T^2} \\frac{d^2 \\tilde{x}}{d \\tilde{t}^2} + \\frac{\\gamma L}{T} \\frac{d \\tilde{x}}{d \\tilde{t}} + k L \\tilde{x} = 0\n",
    "$$\n",
    "\n",
    "By selecting the length and time scales appropriately, we can reduce what was originally 3 parameters ($m, \\gamma, k$) to a single parameter $Q$. This occurs for $T = \\omega_0^{-1}$, where $\\omega_0^2 = k/m$. The length scale $L$ can be chosen arbitrarily, however we choose it based on the initial condition such that $L = x(0)$. This reduces the problem to:\n",
    "\n",
    "$$\n",
    "\\frac{d^2 \\tilde{x}}{d \\tilde{t}^2} + \\frac{1}{Q} \\frac{d \\tilde{x}}{d \\tilde{t}} + \\tilde{x} = 0\n",
    "$$\n",
    "with initial conditions of nondimensional displacement $\\tilde{x}(0) = 1$ and nondimensional velocity of $\\tilde{x}'(0) = \\frac{d \\tilde{x}(0)}{d \\tilde{t}} = \\dot{x}_0 \\frac{T}{x_0}$.\n",
    "\n",
    "**For this demonstration, we'll assume that the initial velocity is zero.**\n",
    "\n",
    "\n",
    "## Below is an example code which compares the theoretical ring down with the numerical ring down."
   ]
  },
  {
   "cell_type": "code",
   "execution_count": 1,
   "metadata": {},
   "outputs": [
    {
     "name": "stderr",
     "output_type": "stream",
     "text": [
      "Matplotlib is building the font cache; this may take a moment.\n"
     ]
    }
   ],
   "source": [
    "# Import standard libraries\n",
    "import numpy as np\n",
    "import matplotlib.pyplot as plt"
   ]
  },
  {
   "cell_type": "code",
   "execution_count": 19,
   "metadata": {},
   "outputs": [
    {
     "name": "stdout",
     "output_type": "stream",
     "text": [
      "Natural frequency (omega0):  3.1622776601683795\n",
      "Quality factor (Q):  31.622776601683793\n"
     ]
    }
   ],
   "source": [
    "# Known dimensional parameters of system\n",
    "m = 1; # kg\n",
    "gamma = 0.1; # kg/s\n",
    "k = 10; # N/m\n",
    "# Compute the other important parameters of the system\n",
    "omega0 = np.sqrt(k/m); # natural frequency, rad/s\n",
    "print('Natural frequency (omega0): ', omega0)\n",
    "Q = m*omega0/gamma; # Quality factor, nondimensional\n",
    "print('Quality factor (Q): ', Q)"
   ]
  },
  {
   "cell_type": "code",
   "execution_count": null,
   "metadata": {},
   "outputs": [],
   "source": [
    "# Next, build your numerical solver to take a time step for this system of equations. You should solve the nondimensional systems until the system has returned to equilibrium."
   ]
  },
  {
   "cell_type": "code",
   "execution_count": 20,
   "metadata": {},
   "outputs": [],
   "source": [
    "# Find an analytic expression for the theoretical ring down of this system. Write a function for the theoretical solution to be used for comparison."
   ]
  },
  {
   "cell_type": "code",
   "execution_count": null,
   "metadata": {},
   "outputs": [],
   "source": [
    "# Create a plot showing your numerical and theoretical soultions. Do they agree? Are they correct?"
   ]
  },
  {
   "cell_type": "code",
   "execution_count": 21,
   "metadata": {},
   "outputs": [],
   "source": [
    "# How do the numerical and theoretical solutions compare? Provide a quantitative measurement, and explain what it is."
   ]
  }
 ],
 "metadata": {
  "kernelspec": {
   "display_name": ".venv",
   "language": "python",
   "name": "python3"
  },
  "language_info": {
   "codemirror_mode": {
    "name": "ipython",
    "version": 3
   },
   "file_extension": ".py",
   "mimetype": "text/x-python",
   "name": "python",
   "nbconvert_exporter": "python",
   "pygments_lexer": "ipython3",
   "version": "3.12.7"
  }
 },
 "nbformat": 4,
 "nbformat_minor": 2
}
